{
  "nbformat": 4,
  "nbformat_minor": 0,
  "metadata": {
    "colab": {
      "name": "Caso 9.Regresión Lineal Múltiple.ipynb",
      "provenance": [],
      "collapsed_sections": [],
      "authorship_tag": "ABX9TyOTDClilVadpCXhmKytnPxm",
      "include_colab_link": true
    },
    "kernelspec": {
      "name": "python3",
      "display_name": "Python 3"
    },
    "language_info": {
      "name": "python"
    }
  },
  "cells": [
    {
      "cell_type": "markdown",
      "metadata": {
        "id": "view-in-github",
        "colab_type": "text"
      },
      "source": [
        "<a href=\"https://colab.research.google.com/github/rpizarrog/CIIT.-Diplomado-en-Ciencia-de-los-Datos-e-IoT/blob/main/bloc%20de%20notas/Caso_9_Regresi%C3%B3n_Lineal_M%C3%BAltiple.ipynb\" target=\"_parent\"><img src=\"https://colab.research.google.com/assets/colab-badge.svg\" alt=\"Open In Colab\"/></a>"
      ]
    },
    {
      "cell_type": "markdown",
      "metadata": {
        "id": "02pqfqQTrOTP"
      },
      "source": [
        "Caso 8. Regresión Lineal Múltiple\n",
        "\n",
        "Rubén Pizarro Gurrola\n",
        "Octubre 2021\n",
        "\n"
      ]
    },
    {
      "cell_type": "markdown",
      "metadata": {
        "id": "-da64ZVsrWWP"
      },
      "source": [
        "# Objetivo\n",
        "\n",
        "Construir e interpretar modelos de regresión lineal multiple\n"
      ]
    },
    {
      "cell_type": "markdown",
      "metadata": {
        "id": "1JPjgkPorb33"
      },
      "source": [
        "# Descripción\n",
        "\n",
        "Se cargan librerías necesarias\n",
        "Se cargan o generan los datos\n",
        "Se fragmentan los datos en datos de entrenamiento y validación\n",
        "Se contruye el modelo de regresión lineal múñtile\n",
        "Se interpretan los estadíticos del modelo R Square Adjusted y los coeficientes de la acuación \n",
        "\n",
        "$$\n",
        "y = a + \\beta_0 \\cdot{x_1} + \\beta_1\\cdot{x_2} + \\beta_2\\cdot{x_3} + ... + \\beta_k \\cdot {x_k} + \\epsilon\n",
        "$$ \n",
        "\n",
        "# Marco conceptual\n",
        "\n",
        "En la mayoría de los problemas de investigación en los que se aplica el análisis de regresión se necesita más de una variable independiente para el modelo de regresión. \n",
        "\n",
        "La complejidad de la mayoría de mecanismos científicos es tal que, con el fin de predecir una respuesta importante, se requiere un modelo de regresión múltiple. Cuando un modelo es lineal en los coeficientes se denomina modelo de regresión lineal múltiple.\n",
        "\n",
        "Para el caso de k variables independientes, el modelo que da x1,x2,...,xk, y y como la variable dependiente.x1,x2,...,xk son las variables que afectan a la variable dependiente en el modelo de regresión lineal múltiple. \n",
        "\n",
        "Muchos problemas de investigación y de la industria, requieren la estimación de las relaciones existentes entre el patrón de variabilidad de una variable aleatoria y los valores de una o más variables aleatorias. \n",
        "\n",
        "Al generar un modelo de regresión linel múltiple es importante identificar los estadísticos de R2 R Square, que se denomina coeficiente de determinación y es una medida de la proporción de la variabilidad explicada por el modelo ajustado. \n",
        "\n",
        "De igual forma, el valor de R2 ajustado o coeficiente de determinación ajustado, es una variación de R2 que proporciona un ajuste para los grados de libertad. R Square ajustado está diseñado para proporcionar un estadístico que castigue un modelo sobreajustado, de manera que se puede esperar que favorezca al modelo.\n",
        "\n",
        "Una variable Y puede predecirse conforme y de cuerdo con\n",
        "\n",
        "$$\n",
        "y = a + \\beta_0 \\cdot{x_1} + \\beta_1\\cdot{x_2} + \\beta_2\\cdot{x_3} + ... + \\beta_k \\cdot {x_k} + \\epsilon\n",
        "$$ \n",
        "\n",
        "# Desarrollo\n",
        "\n",
        "## Cargar librerías\n",
        "\n",
        "\n",
        "\n",
        "\n"
      ]
    },
    {
      "cell_type": "code",
      "metadata": {
        "id": "qu5qgkg4wFDY"
      },
      "source": [
        "import pandas as pd\n",
        "import numpy as np\n",
        "import matplotlib.pyplot as plt\n",
        "from pandas import DataFrame,Series\n",
        "# from sklearn.cross_validation import train_test_split\n",
        "from sklearn.model_selection import train_test_split # Partir datos\n",
        "from sklearn.linear_model import LinearRegression\n"
      ],
      "execution_count": 1,
      "outputs": []
    },
    {
      "cell_type": "markdown",
      "metadata": {
        "id": "ilKhZcBOwGG4"
      },
      "source": [
        "## Cargar los datos\n"
      ]
    },
    {
      "cell_type": "markdown",
      "metadata": {
        "id": "b4liqsp4pFk4"
      },
      "source": [
        "## Crear el modelo de Regresión Lineal Múltiple\n",
        "\n",
        "### Identificar variables independientes tres o cuatro variables numéricas\n",
        "\n",
        "### Identificar variable dependiente o de respuesta\n",
        "\n",
        "### Crear datos de entrenamiento y validación\n",
        "\n",
        "Crear el modelo de regresión lineal múltiple con los datos de entrenamiento\n"
      ]
    },
    {
      "cell_type": "markdown",
      "metadata": {
        "id": "1TPCGCdJr1JR"
      },
      "source": [
        "## Visualización de los datos\n",
        "\n",
        "Hacer diagramas de dispersión con las variables independientes contra la variable dependiente.\n",
        "\n"
      ]
    },
    {
      "cell_type": "markdown",
      "metadata": {
        "id": "77_faOg5sBng"
      },
      "source": [
        "## Correlación entre variables\n",
        "\n",
        "Identificar el valor de correlación entre las variables independients contra la variable dependiente. (opcional)"
      ]
    },
    {
      "cell_type": "markdown",
      "metadata": {
        "id": "ic46dGcmpV8o"
      },
      "source": [
        "### Interpretar los valores constantes y los estadísticos significativos de cada variable\n",
        "\n",
        "### Identificar e Interpretar el valor de R Square Ajustado\n",
        "\n",
        "Es la medida que refleja que tanto impacto o representatividad tienen las variables independientes sobre la variable dependiente.\n",
        "\n",
        "Busquen que sea por encima del 50%\n",
        "\n"
      ]
    },
    {
      "cell_type": "markdown",
      "metadata": {
        "id": "4eSbIoRQqfIj"
      },
      "source": [
        "## Realizar predicciones con el modelo \n",
        "\n",
        "Utilizando alguos valores (observaciones o registros) del conjunto de datos de validacipon elaborar predicciones basados en la fórmula y también utilizando la función *predict*() de *Python*."
      ]
    },
    {
      "cell_type": "markdown",
      "metadata": {
        "id": "inzuAG30wIa3"
      },
      "source": [
        "# Interpretación\n",
        "\n",
        "Desripción narrativa de tus aportaciones y percepeciones del caso. Alededor de 80-100 palabras."
      ]
    }
  ]
}